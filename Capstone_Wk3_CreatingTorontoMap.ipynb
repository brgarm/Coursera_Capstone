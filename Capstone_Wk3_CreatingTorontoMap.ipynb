{
 "cells": [
  {
   "cell_type": "markdown",
   "metadata": {
    "collapsed": true
   },
   "source": [
    "# Part 1:"
   ]
  },
  {
   "cell_type": "markdown",
   "metadata": {},
   "source": [
    "# Import packages"
   ]
  },
  {
   "cell_type": "code",
   "execution_count": 1,
   "metadata": {},
   "outputs": [],
   "source": [
    "import requests\n",
    "from bs4 import BeautifulSoup\n",
    "import pandas as pd"
   ]
  },
  {
   "cell_type": "markdown",
   "metadata": {},
   "source": [
    "# Get Wikipedia Page Source"
   ]
  },
  {
   "cell_type": "code",
   "execution_count": 2,
   "metadata": {},
   "outputs": [],
   "source": [
    "html_doc = requests.get('https://en.wikipedia.org/wiki/List_of_postal_codes_of_Canada:_M').text\n",
    "soup = BeautifulSoup(html_doc, 'html.parser')"
   ]
  },
  {
   "cell_type": "markdown",
   "metadata": {},
   "source": [
    "# Scrape Html To Get Post Code, Borough, and Neighborhood Lists"
   ]
  },
  {
   "cell_type": "code",
   "execution_count": 84,
   "metadata": {},
   "outputs": [],
   "source": [
    "postalCodeL = []\n",
    "boroughL = []\n",
    "neighborhoodL = []\n",
    "\n",
    "for line in soup.find('table').find_all('tr'):\n",
    "    cells = line.find_all('td')\n",
    "    if(len(cells) > 0):\n",
    "        postalCodeL.append(cells[0].text)\n",
    "        boroughL.append(cells[1].text)\n",
    "        neighborhoodL.append(cells[2].text.replace(\"\\n\",\"\"))\n",
    "\n",
    "#print(postalCodeL)\n",
    "#print(boroughL)\n",
    "#print(neighborhoodL)"
   ]
  },
  {
   "cell_type": "markdown",
   "metadata": {},
   "source": [
    "# Add PostCode, Borough, and Neighborhood Lists into Pandas Dataframe & Remove Not Assigned Boroughs"
   ]
  },
  {
   "cell_type": "code",
   "execution_count": 110,
   "metadata": {},
   "outputs": [
    {
     "data": {
      "text/html": [
       "<div>\n",
       "<style scoped>\n",
       "    .dataframe tbody tr th:only-of-type {\n",
       "        vertical-align: middle;\n",
       "    }\n",
       "\n",
       "    .dataframe tbody tr th {\n",
       "        vertical-align: top;\n",
       "    }\n",
       "\n",
       "    .dataframe thead th {\n",
       "        text-align: right;\n",
       "    }\n",
       "</style>\n",
       "<table border=\"1\" class=\"dataframe\">\n",
       "  <thead>\n",
       "    <tr style=\"text-align: right;\">\n",
       "      <th></th>\n",
       "      <th>PostalCode</th>\n",
       "      <th>Borough</th>\n",
       "      <th>Neighborhood</th>\n",
       "    </tr>\n",
       "  </thead>\n",
       "  <tbody>\n",
       "    <tr>\n",
       "      <th>2</th>\n",
       "      <td>M3A</td>\n",
       "      <td>North York</td>\n",
       "      <td>Parkwoods</td>\n",
       "    </tr>\n",
       "    <tr>\n",
       "      <th>3</th>\n",
       "      <td>M4A</td>\n",
       "      <td>North York</td>\n",
       "      <td>Victoria Village</td>\n",
       "    </tr>\n",
       "    <tr>\n",
       "      <th>4</th>\n",
       "      <td>M5A</td>\n",
       "      <td>Downtown Toronto</td>\n",
       "      <td>Harbourfront</td>\n",
       "    </tr>\n",
       "    <tr>\n",
       "      <th>5</th>\n",
       "      <td>M5A</td>\n",
       "      <td>Downtown Toronto</td>\n",
       "      <td>Regent Park</td>\n",
       "    </tr>\n",
       "    <tr>\n",
       "      <th>6</th>\n",
       "      <td>M6A</td>\n",
       "      <td>North York</td>\n",
       "      <td>Lawrence Heights</td>\n",
       "    </tr>\n",
       "    <tr>\n",
       "      <th>7</th>\n",
       "      <td>M6A</td>\n",
       "      <td>North York</td>\n",
       "      <td>Lawrence Manor</td>\n",
       "    </tr>\n",
       "    <tr>\n",
       "      <th>8</th>\n",
       "      <td>M7A</td>\n",
       "      <td>Queen's Park</td>\n",
       "      <td>Not assigned</td>\n",
       "    </tr>\n",
       "    <tr>\n",
       "      <th>10</th>\n",
       "      <td>M9A</td>\n",
       "      <td>Etobicoke</td>\n",
       "      <td>Islington Avenue</td>\n",
       "    </tr>\n",
       "    <tr>\n",
       "      <th>11</th>\n",
       "      <td>M1B</td>\n",
       "      <td>Scarborough</td>\n",
       "      <td>Rouge</td>\n",
       "    </tr>\n",
       "    <tr>\n",
       "      <th>12</th>\n",
       "      <td>M1B</td>\n",
       "      <td>Scarborough</td>\n",
       "      <td>Malvern</td>\n",
       "    </tr>\n",
       "    <tr>\n",
       "      <th>14</th>\n",
       "      <td>M3B</td>\n",
       "      <td>North York</td>\n",
       "      <td>Don Mills North</td>\n",
       "    </tr>\n",
       "    <tr>\n",
       "      <th>15</th>\n",
       "      <td>M4B</td>\n",
       "      <td>East York</td>\n",
       "      <td>Woodbine Gardens</td>\n",
       "    </tr>\n",
       "  </tbody>\n",
       "</table>\n",
       "</div>"
      ],
      "text/plain": [
       "   PostalCode           Borough      Neighborhood\n",
       "2         M3A        North York         Parkwoods\n",
       "3         M4A        North York  Victoria Village\n",
       "4         M5A  Downtown Toronto      Harbourfront\n",
       "5         M5A  Downtown Toronto       Regent Park\n",
       "6         M6A        North York  Lawrence Heights\n",
       "7         M6A        North York    Lawrence Manor\n",
       "8         M7A      Queen's Park      Not assigned\n",
       "10        M9A         Etobicoke  Islington Avenue\n",
       "11        M1B       Scarborough             Rouge\n",
       "12        M1B       Scarborough           Malvern\n",
       "14        M3B        North York   Don Mills North\n",
       "15        M4B         East York  Woodbine Gardens"
      ]
     },
     "execution_count": 110,
     "metadata": {},
     "output_type": "execute_result"
    }
   ],
   "source": [
    "toronto_df = pd.DataFrame()\n",
    "toronto_df['PostalCode'] = postalCodeL\n",
    "toronto_df['Borough'] = boroughL\n",
    "toronto_df['Neighborhood'] = neighborhoodL\n",
    "\n",
    "toronto_df = toronto_df[toronto_df.Borough != 'Not assigned']\n",
    "toronto_df.head(12)"
   ]
  },
  {
   "cell_type": "markdown",
   "metadata": {},
   "source": [
    "# Remove Duplicate PostalCode By Grouping Neighborhoods by PostalCode & Borough"
   ]
  },
  {
   "cell_type": "code",
   "execution_count": 112,
   "metadata": {
    "scrolled": true
   },
   "outputs": [
    {
     "data": {
      "text/html": [
       "<div>\n",
       "<style scoped>\n",
       "    .dataframe tbody tr th:only-of-type {\n",
       "        vertical-align: middle;\n",
       "    }\n",
       "\n",
       "    .dataframe tbody tr th {\n",
       "        vertical-align: top;\n",
       "    }\n",
       "\n",
       "    .dataframe thead th {\n",
       "        text-align: right;\n",
       "    }\n",
       "</style>\n",
       "<table border=\"1\" class=\"dataframe\">\n",
       "  <thead>\n",
       "    <tr style=\"text-align: right;\">\n",
       "      <th></th>\n",
       "      <th>PostalCode</th>\n",
       "      <th>Borough</th>\n",
       "      <th>Neighborhood</th>\n",
       "    </tr>\n",
       "  </thead>\n",
       "  <tbody>\n",
       "    <tr>\n",
       "      <th>0</th>\n",
       "      <td>M1B</td>\n",
       "      <td>Scarborough</td>\n",
       "      <td>Rouge,Malvern</td>\n",
       "    </tr>\n",
       "    <tr>\n",
       "      <th>1</th>\n",
       "      <td>M1C</td>\n",
       "      <td>Scarborough</td>\n",
       "      <td>Highland Creek,Rouge Hill,Port Union</td>\n",
       "    </tr>\n",
       "    <tr>\n",
       "      <th>2</th>\n",
       "      <td>M1E</td>\n",
       "      <td>Scarborough</td>\n",
       "      <td>Guildwood,Morningside,West Hill</td>\n",
       "    </tr>\n",
       "    <tr>\n",
       "      <th>3</th>\n",
       "      <td>M1G</td>\n",
       "      <td>Scarborough</td>\n",
       "      <td>Woburn</td>\n",
       "    </tr>\n",
       "    <tr>\n",
       "      <th>4</th>\n",
       "      <td>M1H</td>\n",
       "      <td>Scarborough</td>\n",
       "      <td>Cedarbrae</td>\n",
       "    </tr>\n",
       "  </tbody>\n",
       "</table>\n",
       "</div>"
      ],
      "text/plain": [
       "  PostalCode      Borough                          Neighborhood\n",
       "0        M1B  Scarborough                         Rouge,Malvern\n",
       "1        M1C  Scarborough  Highland Creek,Rouge Hill,Port Union\n",
       "2        M1E  Scarborough       Guildwood,Morningside,West Hill\n",
       "3        M1G  Scarborough                                Woburn\n",
       "4        M1H  Scarborough                             Cedarbrae"
      ]
     },
     "execution_count": 112,
     "metadata": {},
     "output_type": "execute_result"
    }
   ],
   "source": [
    "toronto_df = toronto_df.groupby(['PostalCode','Borough'], as_index=False).agg(lambda x: ','.join(x))\n",
    "toronto_df.head()"
   ]
  },
  {
   "cell_type": "markdown",
   "metadata": {},
   "source": [
    "# Fix the Not Assigned Neighborhood"
   ]
  },
  {
   "cell_type": "code",
   "execution_count": 113,
   "metadata": {},
   "outputs": [
    {
     "data": {
      "text/html": [
       "<div>\n",
       "<style scoped>\n",
       "    .dataframe tbody tr th:only-of-type {\n",
       "        vertical-align: middle;\n",
       "    }\n",
       "\n",
       "    .dataframe tbody tr th {\n",
       "        vertical-align: top;\n",
       "    }\n",
       "\n",
       "    .dataframe thead th {\n",
       "        text-align: right;\n",
       "    }\n",
       "</style>\n",
       "<table border=\"1\" class=\"dataframe\">\n",
       "  <thead>\n",
       "    <tr style=\"text-align: right;\">\n",
       "      <th></th>\n",
       "      <th>PostalCode</th>\n",
       "      <th>Borough</th>\n",
       "      <th>Neighborhood</th>\n",
       "    </tr>\n",
       "  </thead>\n",
       "  <tbody>\n",
       "    <tr>\n",
       "      <th>85</th>\n",
       "      <td>M7A</td>\n",
       "      <td>Queen's Park</td>\n",
       "      <td>Queen's Park</td>\n",
       "    </tr>\n",
       "  </tbody>\n",
       "</table>\n",
       "</div>"
      ],
      "text/plain": [
       "   PostalCode       Borough  Neighborhood\n",
       "85        M7A  Queen's Park  Queen's Park"
      ]
     },
     "execution_count": 113,
     "metadata": {},
     "output_type": "execute_result"
    }
   ],
   "source": [
    "na_neigh_rows = toronto_df.Neighborhood == 'Not assigned'\n",
    "toronto_df.loc[na_neigh_rows, 'Neighborhood'] = toronto_df.loc[na_neigh_rows, 'Borough']\n",
    "toronto_df[na_neigh_rows]"
   ]
  },
  {
   "cell_type": "markdown",
   "metadata": {},
   "source": [
    "# Clean up and Show Shape of Data Frame"
   ]
  },
  {
   "cell_type": "code",
   "execution_count": 117,
   "metadata": {},
   "outputs": [
    {
     "name": "stdout",
     "output_type": "stream",
     "text": [
      "(103, 3)\n"
     ]
    },
    {
     "data": {
      "text/html": [
       "<div>\n",
       "<style scoped>\n",
       "    .dataframe tbody tr th:only-of-type {\n",
       "        vertical-align: middle;\n",
       "    }\n",
       "\n",
       "    .dataframe tbody tr th {\n",
       "        vertical-align: top;\n",
       "    }\n",
       "\n",
       "    .dataframe thead th {\n",
       "        text-align: right;\n",
       "    }\n",
       "</style>\n",
       "<table border=\"1\" class=\"dataframe\">\n",
       "  <thead>\n",
       "    <tr style=\"text-align: right;\">\n",
       "      <th></th>\n",
       "      <th>PostalCode</th>\n",
       "      <th>Borough</th>\n",
       "      <th>Neighborhood</th>\n",
       "    </tr>\n",
       "  </thead>\n",
       "  <tbody>\n",
       "    <tr>\n",
       "      <th>0</th>\n",
       "      <td>M1B</td>\n",
       "      <td>Scarborough</td>\n",
       "      <td>Rouge,Malvern</td>\n",
       "    </tr>\n",
       "    <tr>\n",
       "      <th>1</th>\n",
       "      <td>M1C</td>\n",
       "      <td>Scarborough</td>\n",
       "      <td>Highland Creek,Rouge Hill,Port Union</td>\n",
       "    </tr>\n",
       "    <tr>\n",
       "      <th>2</th>\n",
       "      <td>M1E</td>\n",
       "      <td>Scarborough</td>\n",
       "      <td>Guildwood,Morningside,West Hill</td>\n",
       "    </tr>\n",
       "    <tr>\n",
       "      <th>3</th>\n",
       "      <td>M1G</td>\n",
       "      <td>Scarborough</td>\n",
       "      <td>Woburn</td>\n",
       "    </tr>\n",
       "    <tr>\n",
       "      <th>4</th>\n",
       "      <td>M1H</td>\n",
       "      <td>Scarborough</td>\n",
       "      <td>Cedarbrae</td>\n",
       "    </tr>\n",
       "  </tbody>\n",
       "</table>\n",
       "</div>"
      ],
      "text/plain": [
       "  PostalCode      Borough                          Neighborhood\n",
       "0        M1B  Scarborough                         Rouge,Malvern\n",
       "1        M1C  Scarborough  Highland Creek,Rouge Hill,Port Union\n",
       "2        M1E  Scarborough       Guildwood,Morningside,West Hill\n",
       "3        M1G  Scarborough                                Woburn\n",
       "4        M1H  Scarborough                             Cedarbrae"
      ]
     },
     "execution_count": 117,
     "metadata": {},
     "output_type": "execute_result"
    }
   ],
   "source": [
    "toronto_df_cleaned = toronto_df\n",
    "print(toronto_df_cleaned.shape)\n",
    "toronto_df_cleaned.head()"
   ]
  },
  {
   "cell_type": "markdown",
   "metadata": {},
   "source": [
    "# Part 2:"
   ]
  },
  {
   "cell_type": "markdown",
   "metadata": {},
   "source": [
    "# Load .csv file with latitude and longitude coordinates for Toronto Neighborhoods"
   ]
  },
  {
   "cell_type": "code",
   "execution_count": 118,
   "metadata": {},
   "outputs": [
    {
     "name": "stdout",
     "output_type": "stream",
     "text": [
      "Downloaded!\n"
     ]
    }
   ],
   "source": [
    "!wget -q -O 'Geospatial_Coordinates.csv' http://cocl.us/Geospatial_data\n",
    "print('Downloaded!')"
   ]
  },
  {
   "cell_type": "code",
   "execution_count": 119,
   "metadata": {},
   "outputs": [],
   "source": [
    "coor = pd.read_csv('Geospatial_Coordinates.csv')"
   ]
  },
  {
   "cell_type": "code",
   "execution_count": 120,
   "metadata": {},
   "outputs": [
    {
     "data": {
      "text/html": [
       "<div>\n",
       "<style scoped>\n",
       "    .dataframe tbody tr th:only-of-type {\n",
       "        vertical-align: middle;\n",
       "    }\n",
       "\n",
       "    .dataframe tbody tr th {\n",
       "        vertical-align: top;\n",
       "    }\n",
       "\n",
       "    .dataframe thead th {\n",
       "        text-align: right;\n",
       "    }\n",
       "</style>\n",
       "<table border=\"1\" class=\"dataframe\">\n",
       "  <thead>\n",
       "    <tr style=\"text-align: right;\">\n",
       "      <th></th>\n",
       "      <th>Postal Code</th>\n",
       "      <th>Latitude</th>\n",
       "      <th>Longitude</th>\n",
       "    </tr>\n",
       "  </thead>\n",
       "  <tbody>\n",
       "    <tr>\n",
       "      <th>0</th>\n",
       "      <td>M1B</td>\n",
       "      <td>43.806686</td>\n",
       "      <td>-79.194353</td>\n",
       "    </tr>\n",
       "    <tr>\n",
       "      <th>1</th>\n",
       "      <td>M1C</td>\n",
       "      <td>43.784535</td>\n",
       "      <td>-79.160497</td>\n",
       "    </tr>\n",
       "    <tr>\n",
       "      <th>2</th>\n",
       "      <td>M1E</td>\n",
       "      <td>43.763573</td>\n",
       "      <td>-79.188711</td>\n",
       "    </tr>\n",
       "    <tr>\n",
       "      <th>3</th>\n",
       "      <td>M1G</td>\n",
       "      <td>43.770992</td>\n",
       "      <td>-79.216917</td>\n",
       "    </tr>\n",
       "    <tr>\n",
       "      <th>4</th>\n",
       "      <td>M1H</td>\n",
       "      <td>43.773136</td>\n",
       "      <td>-79.239476</td>\n",
       "    </tr>\n",
       "  </tbody>\n",
       "</table>\n",
       "</div>"
      ],
      "text/plain": [
       "  Postal Code   Latitude  Longitude\n",
       "0         M1B  43.806686 -79.194353\n",
       "1         M1C  43.784535 -79.160497\n",
       "2         M1E  43.763573 -79.188711\n",
       "3         M1G  43.770992 -79.216917\n",
       "4         M1H  43.773136 -79.239476"
      ]
     },
     "execution_count": 120,
     "metadata": {},
     "output_type": "execute_result"
    }
   ],
   "source": [
    "coor.head()"
   ]
  },
  {
   "cell_type": "markdown",
   "metadata": {},
   "source": [
    "# Set Indexes of the two data frames to Postal Code Columns and then merge them"
   ]
  },
  {
   "cell_type": "code",
   "execution_count": 125,
   "metadata": {},
   "outputs": [],
   "source": [
    "toronto_df_2 = toronto_df_cleaned.set_index('PostalCode')\n",
    "coor_2 = coor.set_index('Postal Code')\n",
    "toronto_df_coor = pd.concat([toronto_df_2, coor_2], axis=1, join='inner')"
   ]
  },
  {
   "cell_type": "markdown",
   "metadata": {},
   "source": [
    "# Reset Index "
   ]
  },
  {
   "cell_type": "code",
   "execution_count": 123,
   "metadata": {},
   "outputs": [],
   "source": [
    "toronto_df_coor.index.name = 'PostalCode'\n",
    "toronto_df_coor.reset_index(inplace=True)"
   ]
  },
  {
   "cell_type": "markdown",
   "metadata": {},
   "source": [
    "# Print Shape and first 12 rows of merged dataframes"
   ]
  },
  {
   "cell_type": "code",
   "execution_count": 126,
   "metadata": {
    "scrolled": true
   },
   "outputs": [
    {
     "name": "stdout",
     "output_type": "stream",
     "text": [
      "(103, 4)\n"
     ]
    },
    {
     "data": {
      "text/html": [
       "<div>\n",
       "<style scoped>\n",
       "    .dataframe tbody tr th:only-of-type {\n",
       "        vertical-align: middle;\n",
       "    }\n",
       "\n",
       "    .dataframe tbody tr th {\n",
       "        vertical-align: top;\n",
       "    }\n",
       "\n",
       "    .dataframe thead th {\n",
       "        text-align: right;\n",
       "    }\n",
       "</style>\n",
       "<table border=\"1\" class=\"dataframe\">\n",
       "  <thead>\n",
       "    <tr style=\"text-align: right;\">\n",
       "      <th></th>\n",
       "      <th>Borough</th>\n",
       "      <th>Neighborhood</th>\n",
       "      <th>Latitude</th>\n",
       "      <th>Longitude</th>\n",
       "    </tr>\n",
       "  </thead>\n",
       "  <tbody>\n",
       "    <tr>\n",
       "      <th>M1B</th>\n",
       "      <td>Scarborough</td>\n",
       "      <td>Rouge,Malvern</td>\n",
       "      <td>43.806686</td>\n",
       "      <td>-79.194353</td>\n",
       "    </tr>\n",
       "    <tr>\n",
       "      <th>M1C</th>\n",
       "      <td>Scarborough</td>\n",
       "      <td>Highland Creek,Rouge Hill,Port Union</td>\n",
       "      <td>43.784535</td>\n",
       "      <td>-79.160497</td>\n",
       "    </tr>\n",
       "    <tr>\n",
       "      <th>M1E</th>\n",
       "      <td>Scarborough</td>\n",
       "      <td>Guildwood,Morningside,West Hill</td>\n",
       "      <td>43.763573</td>\n",
       "      <td>-79.188711</td>\n",
       "    </tr>\n",
       "    <tr>\n",
       "      <th>M1G</th>\n",
       "      <td>Scarborough</td>\n",
       "      <td>Woburn</td>\n",
       "      <td>43.770992</td>\n",
       "      <td>-79.216917</td>\n",
       "    </tr>\n",
       "    <tr>\n",
       "      <th>M1H</th>\n",
       "      <td>Scarborough</td>\n",
       "      <td>Cedarbrae</td>\n",
       "      <td>43.773136</td>\n",
       "      <td>-79.239476</td>\n",
       "    </tr>\n",
       "    <tr>\n",
       "      <th>M1J</th>\n",
       "      <td>Scarborough</td>\n",
       "      <td>Scarborough Village</td>\n",
       "      <td>43.744734</td>\n",
       "      <td>-79.239476</td>\n",
       "    </tr>\n",
       "    <tr>\n",
       "      <th>M1K</th>\n",
       "      <td>Scarborough</td>\n",
       "      <td>East Birchmount Park,Ionview,Kennedy Park</td>\n",
       "      <td>43.727929</td>\n",
       "      <td>-79.262029</td>\n",
       "    </tr>\n",
       "    <tr>\n",
       "      <th>M1L</th>\n",
       "      <td>Scarborough</td>\n",
       "      <td>Clairlea,Golden Mile,Oakridge</td>\n",
       "      <td>43.711112</td>\n",
       "      <td>-79.284577</td>\n",
       "    </tr>\n",
       "    <tr>\n",
       "      <th>M1M</th>\n",
       "      <td>Scarborough</td>\n",
       "      <td>Cliffcrest,Cliffside,Scarborough Village West</td>\n",
       "      <td>43.716316</td>\n",
       "      <td>-79.239476</td>\n",
       "    </tr>\n",
       "    <tr>\n",
       "      <th>M1N</th>\n",
       "      <td>Scarborough</td>\n",
       "      <td>Birch Cliff,Cliffside West</td>\n",
       "      <td>43.692657</td>\n",
       "      <td>-79.264848</td>\n",
       "    </tr>\n",
       "    <tr>\n",
       "      <th>M1P</th>\n",
       "      <td>Scarborough</td>\n",
       "      <td>Dorset Park,Scarborough Town Centre,Wexford He...</td>\n",
       "      <td>43.757410</td>\n",
       "      <td>-79.273304</td>\n",
       "    </tr>\n",
       "    <tr>\n",
       "      <th>M1R</th>\n",
       "      <td>Scarborough</td>\n",
       "      <td>Maryvale,Wexford</td>\n",
       "      <td>43.750072</td>\n",
       "      <td>-79.295849</td>\n",
       "    </tr>\n",
       "  </tbody>\n",
       "</table>\n",
       "</div>"
      ],
      "text/plain": [
       "         Borough                                       Neighborhood  \\\n",
       "M1B  Scarborough                                      Rouge,Malvern   \n",
       "M1C  Scarborough               Highland Creek,Rouge Hill,Port Union   \n",
       "M1E  Scarborough                    Guildwood,Morningside,West Hill   \n",
       "M1G  Scarborough                                             Woburn   \n",
       "M1H  Scarborough                                          Cedarbrae   \n",
       "M1J  Scarborough                                Scarborough Village   \n",
       "M1K  Scarborough          East Birchmount Park,Ionview,Kennedy Park   \n",
       "M1L  Scarborough                      Clairlea,Golden Mile,Oakridge   \n",
       "M1M  Scarborough      Cliffcrest,Cliffside,Scarborough Village West   \n",
       "M1N  Scarborough                         Birch Cliff,Cliffside West   \n",
       "M1P  Scarborough  Dorset Park,Scarborough Town Centre,Wexford He...   \n",
       "M1R  Scarborough                                   Maryvale,Wexford   \n",
       "\n",
       "      Latitude  Longitude  \n",
       "M1B  43.806686 -79.194353  \n",
       "M1C  43.784535 -79.160497  \n",
       "M1E  43.763573 -79.188711  \n",
       "M1G  43.770992 -79.216917  \n",
       "M1H  43.773136 -79.239476  \n",
       "M1J  43.744734 -79.239476  \n",
       "M1K  43.727929 -79.262029  \n",
       "M1L  43.711112 -79.284577  \n",
       "M1M  43.716316 -79.239476  \n",
       "M1N  43.692657 -79.264848  \n",
       "M1P  43.757410 -79.273304  \n",
       "M1R  43.750072 -79.295849  "
      ]
     },
     "execution_count": 126,
     "metadata": {},
     "output_type": "execute_result"
    }
   ],
   "source": [
    "print(toronto_df_coor.shape)\n",
    "toronto_df_coor.head(12)"
   ]
  },
  {
   "cell_type": "markdown",
   "metadata": {},
   "source": [
    "# Part 3:"
   ]
  },
  {
   "cell_type": "code",
   "execution_count": 128,
   "metadata": {},
   "outputs": [
    {
     "name": "stdout",
     "output_type": "stream",
     "text": [
      "Fetching package metadata .............\n",
      "Solving package specifications: .\n",
      "\n",
      "Package plan for installation in environment /opt/conda/envs/DSX-Python35:\n",
      "\n",
      "The following NEW packages will be INSTALLED:\n",
      "\n",
      "    geographiclib: 1.49-py_0   conda-forge\n",
      "    geopy:         1.19.0-py_0 conda-forge\n",
      "\n",
      "geographiclib- 100% |################################| Time: 0:00:00  24.91 MB/s\n",
      "geopy-1.19.0-p 100% |################################| Time: 0:00:00  35.84 MB/s\n",
      "Fetching package metadata .............\n",
      "Solving package specifications: .\n",
      "\n",
      "Package plan for installation in environment /opt/conda/envs/DSX-Python35:\n",
      "\n",
      "The following NEW packages will be INSTALLED:\n",
      "\n",
      "    altair:  2.2.2-py35_1 conda-forge\n",
      "    branca:  0.3.1-py_0   conda-forge\n",
      "    folium:  0.5.0-py_0   conda-forge\n",
      "    vincent: 0.4.4-py_1   conda-forge\n",
      "\n",
      "altair-2.2.2-p 100% |################################| Time: 0:00:00  54.72 MB/s\n",
      "branca-0.3.1-p 100% |################################| Time: 0:00:00  29.08 MB/s\n",
      "vincent-0.4.4- 100% |################################| Time: 0:00:00  29.60 MB/s\n",
      "folium-0.5.0-p 100% |################################| Time: 0:00:00  33.74 MB/s\n",
      "Libraries imported.\n"
     ]
    }
   ],
   "source": [
    "import numpy as np # library to handle data in a vectorized manner\n",
    "\n",
    "import pandas as pd # library for data analsysis\n",
    "pd.set_option('display.max_columns', None)\n",
    "pd.set_option('display.max_rows', None)\n",
    "\n",
    "import json # library to handle JSON files\n",
    "\n",
    "!conda install -c conda-forge geopy --yes \n",
    "from geopy.geocoders import Nominatim # convert an address into latitude and longitude values\n",
    "\n",
    "import requests # library to handle requests\n",
    "from pandas.io.json import json_normalize # tranform JSON file into a pandas dataframe\n",
    "\n",
    "# Matplotlib and associated plotting modules\n",
    "import matplotlib.cm as cm\n",
    "import matplotlib.colors as colors\n",
    "\n",
    "# import k-means from clustering stage\n",
    "from sklearn.cluster import KMeans\n",
    "\n",
    "!conda install -c conda-forge folium=0.5.0 --yes \n",
    "import folium # map rendering library\n",
    "\n",
    "print('Libraries imported.')"
   ]
  },
  {
   "cell_type": "markdown",
   "metadata": {},
   "source": [
    "# Get the Coordinates for Toronto"
   ]
  },
  {
   "cell_type": "code",
   "execution_count": 133,
   "metadata": {},
   "outputs": [
    {
     "name": "stdout",
     "output_type": "stream",
     "text": [
      "The geograpical coordinate of Toronto are 43.653963, -79.387207.\n"
     ]
    }
   ],
   "source": [
    "address = 'Toronto, Canada'\n",
    "\n",
    "geolocator = Nominatim(user_agent=\"Toronto_explorer\")\n",
    "location = geolocator.geocode(address)\n",
    "latitude = location.latitude\n",
    "longitude = location.longitude\n",
    "print('The geograpical coordinate of Toronto are {}, {}.'.format(latitude, longitude))"
   ]
  },
  {
   "cell_type": "markdown",
   "metadata": {},
   "source": [
    "# Create Map of Toronto Using Latitude and Longitude Values and Adding All Neighborhood Markers to the Map"
   ]
  },
  {
   "cell_type": "code",
   "execution_count": 141,
   "metadata": {},
   "outputs": [
    {
     "data": {
      "text/html": [
       "<div style=\"width:100%;\"><div style=\"position:relative;width:100%;height:0;padding-bottom:60%;\"><iframe src=\"data:text/html;charset=utf-8;base64,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\" style=\"position:absolute;width:100%;height:100%;left:0;top:0;border:none !important;\" allowfullscreen webkitallowfullscreen mozallowfullscreen></iframe></div></div>"
      ],
      "text/plain": [
       "<folium.folium.Map at 0x7f947a997160>"
      ]
     },
     "execution_count": 141,
     "metadata": {},
     "output_type": "execute_result"
    }
   ],
   "source": [
    "# create map of Toronto using latitude and longitude values\n",
    "map_toronto = folium.Map(location=[latitude, longitude], zoom_start=11)\n",
    "\n",
    "# add markers to map\n",
    "for lat, lng, borough, neighborhood in zip(toronto_df_coor['Latitude'], toronto_df_coor['Longitude'], toronto_df_coor['Borough'], toronto_df_coor['Neighborhood']):\n",
    "    label = '{}, {}'.format(neighborhood, borough)\n",
    "    label = folium.Popup(label, parse_html=True)\n",
    "    folium.CircleMarker(\n",
    "        [lat, lng],\n",
    "        radius=3,\n",
    "        popup=label,\n",
    "        color='blue',\n",
    "        fill=True,\n",
    "        fill_color='#3199cc',\n",
    "        fill_opacity=0.3,\n",
    "        parse_html=False).add_to(map_toronto)  \n",
    "    \n",
    "map_toronto"
   ]
  }
 ],
 "metadata": {
  "kernelspec": {
   "display_name": "Python 3.5",
   "language": "python",
   "name": "python3"
  },
  "language_info": {
   "codemirror_mode": {
    "name": "ipython",
    "version": 3
   },
   "file_extension": ".py",
   "mimetype": "text/x-python",
   "name": "python",
   "nbconvert_exporter": "python",
   "pygments_lexer": "ipython3",
   "version": "3.5.5"
  }
 },
 "nbformat": 4,
 "nbformat_minor": 1
}
